{
 "cells": [
  {
   "cell_type": "code",
   "execution_count": 2,
   "metadata": {},
   "outputs": [],
   "source": [
    "import torch\n",
    "import torch.nn.functional as F\n",
    "import matplotlib.pyplot as plt\n",
    "%matplotlib inline"
   ]
  },
  {
   "cell_type": "code",
   "execution_count": 3,
   "metadata": {},
   "outputs": [
    {
     "name": "stdout",
     "output_type": "stream",
     "text": [
      "['emma', 'olivia', 'ava', 'isabella', 'sophia', 'charlotte', 'mia', 'amelia', 'harper', 'evelyn']\n"
     ]
    }
   ],
   "source": [
    "# Read file\n",
    "\n",
    "words = None\n",
    "with open('names.txt') as f:\n",
    "    words = f.read().splitlines()\n",
    "\n",
    "print(words[:10])"
   ]
  },
  {
   "cell_type": "code",
   "execution_count": 4,
   "metadata": {},
   "outputs": [
    {
     "name": "stdout",
     "output_type": "stream",
     "text": [
      "['.', 'a', 'b', 'c', 'd', 'e', 'f', 'g', 'h', 'i', 'j', 'k', 'l', 'm', 'n', 'o', 'p', 'q', 'r', 's', 't', 'u', 'v', 'w', 'x', 'y', 'z']\n",
      "{'.': 0, 'a': 1, 'b': 2, 'c': 3, 'd': 4, 'e': 5, 'f': 6, 'g': 7, 'h': 8, 'i': 9, 'j': 10, 'k': 11, 'l': 12, 'm': 13, 'n': 14, 'o': 15, 'p': 16, 'q': 17, 'r': 18, 's': 19, 't': 20, 'u': 21, 'v': 22, 'w': 23, 'x': 24, 'y': 25, 'z': 26}\n",
      "{0: '.', 1: 'a', 2: 'b', 3: 'c', 4: 'd', 5: 'e', 6: 'f', 7: 'g', 8: 'h', 9: 'i', 10: 'j', 11: 'k', 12: 'l', 13: 'm', 14: 'n', 15: 'o', 16: 'p', 17: 'q', 18: 'r', 19: 's', 20: 't', 21: 'u', 22: 'v', 23: 'w', 24: 'x', 25: 'y', 26: 'z'}\n"
     ]
    },
    {
     "data": {
      "text/plain": [
       "5"
      ]
     },
     "execution_count": 4,
     "metadata": {},
     "output_type": "execute_result"
    }
   ],
   "source": [
    "# Build vocabulary and encoder/decoder\n",
    "chs = ['.'] + sorted(set(\"\".join(word for word in words)))\n",
    "print(chs)\n",
    "stoi = {s:i for i, s in enumerate(chs)}\n",
    "print(stoi)\n",
    "itos = { v:k for k,v in stoi.items()}\n",
    "print(itos)\n",
    "stoi['e']"
   ]
  },
  {
   "cell_type": "code",
   "execution_count": 12,
   "metadata": {},
   "outputs": [
    {
     "name": "stdout",
     "output_type": "stream",
     "text": [
      "Xtr.shape=torch.Size([182441, 3]) - Ytr.shape=torch.Size([182441])\n",
      "Xdev.shape=torch.Size([22902, 3]) - Ydev.shape=torch.Size([22902])\n",
      "Xtest.shape=torch.Size([22803, 3]) - Ytest.shape=torch.Size([22803])\n",
      "Xtr[1]=tensor([0, 0, 5]) - 12\n"
     ]
    }
   ],
   "source": [
    "# Build dataset\n",
    "\n",
    "# With context = 3:\n",
    "# ... -> e\n",
    "# ..e -> m\n",
    "# .em -> m\n",
    "# emm -> a\n",
    "# mma -> .\n",
    "\n",
    "\n",
    "def build_dataset(words, context_size=3):\n",
    "    X = []\n",
    "    Y = []\n",
    "\n",
    "    for word in words:\n",
    "        context = [0] * context_size\n",
    "        chs = list(word) + ['.']\n",
    "        for ch in chs:\n",
    "            ix = stoi[ch]\n",
    "            X.append(context)\n",
    "            Y.append(stoi[ch])\n",
    "            #print(''.join(itos[i] for i in context), '--->', itos[ix])\n",
    "            context = context[1:] + [ix]\n",
    "    \n",
    "    X = torch.tensor(X)\n",
    "    Y = torch.tensor(Y)\n",
    "\n",
    "    return X, Y\n",
    "\n",
    "import random\n",
    "random.seed(42)\n",
    "random.shuffle(words)\n",
    "\n",
    "n1 = int(len(words) * 0.8)\n",
    "n2 = int(len(words) * 0.9)\n",
    "\n",
    "Xtr, Ytr = build_dataset(words[:n1])\n",
    "Xdev, Ydev = build_dataset(words[n1:n2])\n",
    "Xtest, Ytest = build_dataset(words[n2:])\n",
    "\n",
    "print(f'{Xtr.shape=} - {Ytr.shape=}')\n",
    "print(f'{Xdev.shape=} - {Ydev.shape=}')\n",
    "print(f'{Xtest.shape=} - {Ytest.shape=}')\n",
    "\n",
    "print(f\"{Xtr[1]=} - {Ytr[1]}\")"
   ]
  },
  {
   "cell_type": "code",
   "execution_count": 9,
   "metadata": {},
   "outputs": [
    {
     "data": {
      "text/plain": [
       "11897"
      ]
     },
     "execution_count": 9,
     "metadata": {},
     "output_type": "execute_result"
    }
   ],
   "source": [
    "# Build neural network\n",
    "\n",
    "EMB_SIZE = 10 # embedding size\n",
    "VOCAB_SIZE = len(chs)\n",
    "CONTEXT_SIZE = 3 \n",
    "H1_SIZE = 200 # First hidden layer size\n",
    "\n",
    "g = torch.Generator().manual_seed(2147483647)\n",
    "C = torch.rand((27,EMB_SIZE), generator=g)\n",
    "\n",
    "# Initialize parameters W1, b1, W2, b2 (with generator) in a params list\n",
    "W1 = torch.rand((EMB_SIZE * CONTEXT_SIZE, H1_SIZE), generator=g)\n",
    "B1 = torch.rand(H1_SIZE, generator=g)\n",
    "W2 = torch.rand((H1_SIZE,VOCAB_SIZE), generator=g)\n",
    "B2 = torch.rand(VOCAB_SIZE, generator=g)\n",
    "\n",
    "params = [C,W1,B1,W2,B2]\n",
    "\n",
    "sum(p.nelement() for p in params)\n"
   ]
  },
  {
   "cell_type": "code",
   "execution_count": null,
   "metadata": {},
   "outputs": [],
   "source": [
    "# Do forward and backward propagation\n",
    "\n",
    "lri = []\n",
    "lossi = []\n",
    "stepi = []\n",
    "\n",
    "Xtr_debug = Xtr[:5]\n",
    "Ytr_debug = Ytr[:5]\n",
    "\n",
    "print(f\"{Xtr_debug[1]=} - {Ytr_debug[1]}\")\n",
    "\n",
    "for p in params:\n",
    "    p.requires_grad = True\n",
    "\n",
    "# Forward\n",
    "h1 = C[Xtr_debug].view(-1,EMB_SIZE * CONTEXT_SIZE, H1_SIZE)\n",
    "logits = \n",
    "counts = \n",
    "loss = "
   ]
  },
  {
   "cell_type": "code",
   "execution_count": null,
   "metadata": {},
   "outputs": [],
   "source": [
    "# Plot the loss and steps"
   ]
  },
  {
   "cell_type": "code",
   "execution_count": null,
   "metadata": {},
   "outputs": [],
   "source": [
    "# Evaluate the training and dev loss"
   ]
  },
  {
   "cell_type": "code",
   "execution_count": null,
   "metadata": {},
   "outputs": [],
   "source": [
    "\n",
    "# Sample from the model"
   ]
  },
  {
   "cell_type": "markdown",
   "metadata": {},
   "source": [
    "# Notes\n",
    "\n",
    "Batch size can be adjusted to converge faster and also reduce noise in loss"
   ]
  }
 ],
 "metadata": {
  "kernelspec": {
   "display_name": "nanogpt",
   "language": "python",
   "name": "python3"
  },
  "language_info": {
   "codemirror_mode": {
    "name": "ipython",
    "version": 3
   },
   "file_extension": ".py",
   "mimetype": "text/x-python",
   "name": "python",
   "nbconvert_exporter": "python",
   "pygments_lexer": "ipython3",
   "version": "3.9.18"
  }
 },
 "nbformat": 4,
 "nbformat_minor": 2
}
