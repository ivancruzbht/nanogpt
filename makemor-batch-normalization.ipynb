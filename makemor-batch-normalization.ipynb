{
 "cells": [
  {
   "cell_type": "markdown",
   "metadata": {},
   "source": [
    "### NOTES\n",
    "\n",
    "Initialization \n",
    "\n",
    "Weights distribution needs to be roughly unit gaussian\n",
    "\n",
    "This is because of non-linear functions, which domain is (-1,1) (tanh) , (0,x)(ReLu), etc. Values higher or lower than STD of 1 are problematic because the gradien vanishes or causes dead neurons. E.g. 2 input values -30 and -40 have the same effect of outputing -1 in a tanh function, and given that the gradient of grad(tanh(-1)=0), there is no gradient broadcasted in the network.\n",
    "\n",
    "So it is important to inialize weights properly.\n",
    "\n",
    "But for bigger neural networks, this becomes intractable because it is difficult to compute the gains for weight initialization.\n",
    "\n",
    "To address this problem, one can use Batch normalization\n",
    "\n",
    "It is common to sprinkle Batch normalization into linear or convolutional layers\n",
    "\n",
    "The stability of BN comes at a cost.BN couples forward propagation with the batch itself, because now the STD and MEAN of the batch are part of the forward pass. So there will be some noise in terms of the distribution of the weights\n",
    "\n",
    "But this helps to regularize the net and prevents the weights of the net to overfit\n",
    "\n",
    "BN also makes the input of the forward pass to depend on the STD and MEAN of the batch. So at inference time, we calculate the STD and MEAN of all the dataset (train, test or val) and use these fix values for inference forward pass. This can be done also during training time to avoid a second stage computation.\n",
    "\n",
    "If using BN, it is better to not to have biases to the layer attached to BN\n",
    "\n",
    "Group Normalization and Layer normalization are better options as BN suffer from a lot of bugs."
   ]
  },
  {
   "cell_type": "code",
   "execution_count": 15,
   "metadata": {},
   "outputs": [],
   "source": [
    "import torch\n",
    "import torch.nn.functional as F\n",
    "import matplotlib as plt\n",
    "\n",
    "%matplotlib inline\n",
    "DEBUG = True\n",
    "\n",
    "debug = lambda *args: print(*args) if DEBUG else None"
   ]
  },
  {
   "cell_type": "code",
   "execution_count": 17,
   "metadata": {},
   "outputs": [
    {
     "name": "stdout",
     "output_type": "stream",
     "text": [
      "['emma', 'olivia', 'ava', 'isabella', 'sophia', 'charlotte', 'mia', 'amelia']\n"
     ]
    }
   ],
   "source": [
    "words = open('names.txt','r').read().splitlines()\n",
    "debug(words[:8])"
   ]
  },
  {
   "cell_type": "code",
   "execution_count": 26,
   "metadata": {},
   "outputs": [
    {
     "name": "stdout",
     "output_type": "stream",
     "text": [
      "{1: 'a', 2: 'b', 3: 'c', 4: 'd', 5: 'e', 6: 'f', 7: 'g', 8: 'h', 9: 'i', 10: 'j', 11: 'k', 12: 'l', 13: 'm', 14: 'n', 15: 'o', 16: 'p', 17: 'q', 18: 'r', 19: 's', 20: 't', 21: 'u', 22: 'v', 23: 'w', 24: 'x', 25: 'y', 26: 'z', 0: '.'}\n"
     ]
    }
   ],
   "source": [
    "# Build the encoders\n",
    "\n",
    "chars = sorted(set(list(\"\".join(w for w in words))))\n",
    "stoi = {s:i+1 for i,s in enumerate(chars)}\n",
    "stoi['.'] = 0\n",
    "itos = {v:k for k,v in stoi.items()}\n",
    "vocab_size = len(stoi)"
   ]
  },
  {
   "cell_type": "code",
   "execution_count": 28,
   "metadata": {},
   "outputs": [
    {
     "name": "stdout",
     "output_type": "stream",
     "text": [
      "Xtr.shape=torch.Size([182580, 3]),Ytr.shape=torch.Size([182580])\n",
      "Xdev.shape=torch.Size([22767, 3]),Ydev.shape=torch.Size([22767])\n",
      "Xte.shape=torch.Size([22799, 3]),Yte.shape=torch.Size([22799])\n",
      "Xtr[0]=tensor([0, 0, 0]) -> Ytr[0]=tensor(5)\n"
     ]
    }
   ],
   "source": [
    "import random\n",
    "\n",
    "# Build the dataset\n",
    "context_size = 3\n",
    "def build_dataset(words):\n",
    "    X, Y = [],[]\n",
    "    context = [0] * context_size\n",
    "    for w in words:\n",
    "        for c in w + '.':\n",
    "            ix = stoi[c]\n",
    "            X.append(context)\n",
    "            Y.append(ix)\n",
    "            context = context[1:] + [ix]\n",
    "\n",
    "    X = torch.tensor(X)\n",
    "    Y = torch.tensor(Y)\n",
    "\n",
    "    return X, Y\n",
    "\n",
    "random.seed(42)\n",
    "random.shuffle(words)\n",
    "n1 = int(len(words) * 0.8)\n",
    "n2 = int(len(words) * 0.9)\n",
    "\n",
    "Xtr, Ytr = build_dataset(words[:n1])\n",
    "Xdev, Ydev = build_dataset(words[n1:n2])\n",
    "Xte, Yte = build_dataset(words[n2:])\n",
    "\n",
    "debug(f\"{Xtr.shape=},{Ytr.shape=}\")\n",
    "debug(f\"{Xdev.shape=},{Ydev.shape=}\")\n",
    "debug(f\"{Xte.shape=},{Yte.shape=}\")\n",
    "\n",
    "debug(f\"{Xtr[0]=} -> {Ytr[0]=}\")"
   ]
  },
  {
   "cell_type": "code",
   "execution_count": null,
   "metadata": {},
   "outputs": [],
   "source": []
  }
 ],
 "metadata": {
  "kernelspec": {
   "display_name": "nanogpt",
   "language": "python",
   "name": "python3"
  },
  "language_info": {
   "codemirror_mode": {
    "name": "ipython",
    "version": 3
   },
   "file_extension": ".py",
   "mimetype": "text/x-python",
   "name": "python",
   "nbconvert_exporter": "python",
   "pygments_lexer": "ipython3",
   "version": "3.9.18"
  }
 },
 "nbformat": 4,
 "nbformat_minor": 2
}
