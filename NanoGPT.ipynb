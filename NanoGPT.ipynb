{
  "cells": [
    {
      "cell_type": "code",
      "execution_count": 2,
      "metadata": {
        "colab": {
          "base_uri": "https://localhost:8080/"
        },
        "id": "R44jxYV6pR0B",
        "outputId": "38069770-b21a-416f-c071-15b5b0ad1aec"
      },
      "outputs": [
        {
          "name": "stdout",
          "output_type": "stream",
          "text": [
            "--2024-01-14 22:52:03--  https://raw.githubusercontent.com/karpathy/char-rnn/master/data/tinyshakespeare/input.txt\n",
            "Resolving raw.githubusercontent.com (raw.githubusercontent.com)... 185.199.108.133, 185.199.109.133, 185.199.110.133, ...\n",
            "Connecting to raw.githubusercontent.com (raw.githubusercontent.com)|185.199.108.133|:443... connected.\n",
            "HTTP request sent, awaiting response... 200 OK\n",
            "Length: 1115394 (1.1M) [text/plain]\n",
            "Saving to: ‘input.txt.2’\n",
            "\n",
            "input.txt.2         100%[===================>]   1.06M  1.81MB/s    in 0.6s    \n",
            "\n",
            "2024-01-14 22:52:04 (1.81 MB/s) - ‘input.txt.2’ saved [1115394/1115394]\n",
            "\n"
          ]
        }
      ],
      "source": [
        "# get dataset\n",
        "!wget https://raw.githubusercontent.com/karpathy/char-rnn/master/data/tinyshakespeare/input.txt"
      ]
    },
    {
      "cell_type": "code",
      "execution_count": 3,
      "metadata": {
        "colab": {
          "base_uri": "https://localhost:8080/"
        },
        "id": "vP3Wfg2Gprd1",
        "outputId": "1adef630-149c-4aa5-e416-b9e5098c0697"
      },
      "outputs": [
        {
          "name": "stdout",
          "output_type": "stream",
          "text": [
            "Lenght of dataset is 1115394\n"
          ]
        }
      ],
      "source": [
        "# load dataset\n",
        "with open(\"input.txt\", 'r', encoding=\"utf-8\") as f:\n",
        "    text = f.read()\n",
        "\n",
        "print(f\"Lenght of dataset is {len(text)}\")"
      ]
    },
    {
      "cell_type": "code",
      "execution_count": 6,
      "metadata": {
        "colab": {
          "base_uri": "https://localhost:8080/"
        },
        "id": "t0IczF95qUsm",
        "outputId": "a7814973-4efe-440d-f900-d583fe250808"
      },
      "outputs": [
        {
          "name": "stdout",
          "output_type": "stream",
          "text": [
            "First Citizen:\n",
            "Before we proceed any further, hear me speak.\n",
            "\n",
            "All:\n",
            "Speak, speak.\n",
            "\n",
            "First Citizen:\n",
            "You are all resolved rather to die than to famish?\n",
            "\n",
            "All:\n",
            "Resolved. resolved.\n",
            "\n",
            "First Citizen:\n",
            "First, you know Caius Marcius is chief enemy to the people.\n",
            "\n",
            "All:\n",
            "We know't, we know't.\n",
            "\n",
            "First Citizen:\n",
            "Let us kill him, and we'll have corn at our own price.\n",
            "Is't a verdict?\n",
            "\n",
            "All:\n",
            "No more talking on't; let it be done: away, away!\n",
            "\n",
            "Second Citizen:\n",
            "One word, good citizens.\n",
            "\n",
            "First Citizen:\n",
            "We are accounted poor citizens, the patricians good.\n",
            "What authority surfeits on would relieve us: if they\n",
            "would yield us but the superfluity, while it were\n",
            "wholesome, we might guess they relieved us humanely;\n",
            "but they think we are too dear: the leanness that\n",
            "afflicts us, the object of our misery, is as an\n",
            "inventory to particularise their abundance; our\n",
            "sufferance is a gain to them Let us revenge this with\n",
            "our pikes, ere we become rakes: for the gods know I\n",
            "speak this in hunger for bread, not in thirst for revenge.\n",
            "\n",
            "\n"
          ]
        }
      ],
      "source": [
        "print(text[0:1000])"
      ]
    },
    {
      "cell_type": "code",
      "execution_count": 15,
      "metadata": {
        "colab": {
          "base_uri": "https://localhost:8080/"
        },
        "id": "w_k9ulijqbra",
        "outputId": "9a3ac55d-d04a-4155-bf9f-f62d59924bbd"
      },
      "outputs": [
        {
          "name": "stdout",
          "output_type": "stream",
          "text": [
            "Chars in dataset are \n",
            " !$&',-.3:;?ABCDEFGHIJKLMNOPQRSTUVWXYZabcdefghijklmnopqrstuvwxyz\n",
            "vocab_size: 65\n"
          ]
        }
      ],
      "source": [
        "# vocab\n",
        "chars = sorted(list(set(text)))\n",
        "vocab_size = len(chars)\n",
        "\n",
        "print(f\"Chars in dataset are {''.join(chars)}\")\n",
        "print(f\"vocab_size: {vocab_size}\")"
      ]
    },
    {
      "cell_type": "code",
      "execution_count": 16,
      "metadata": {
        "colab": {
          "base_uri": "https://localhost:8080/"
        },
        "id": "3jt1nrsArDfr",
        "outputId": "fbd1ef47-39f0-4b08-8716-40ed82ba2eb0"
      },
      "outputs": [
        {
          "name": "stdout",
          "output_type": "stream",
          "text": [
            "[46, 47, 1, 58, 46, 43, 56, 43, 2]\n",
            "hi there!\n"
          ]
        }
      ],
      "source": [
        "# encoder/decoder\n",
        "c2i = {c:i for i,c in enumerate(chars)}\n",
        "i2c = {i:c for i,c in enumerate(chars)}\n",
        "\n",
        "encode = lambda s: [c2i[c] for c in s]\n",
        "decode = lambda l: \"\".join(i2c[i] for i in l)\n",
        "\n",
        "print(encode(\"hi there!\"))\n",
        "print(decode(encode(\"hi there!\")))"
      ]
    },
    {
      "cell_type": "code",
      "execution_count": 17,
      "metadata": {
        "colab": {
          "base_uri": "https://localhost:8080/"
        },
        "id": "FadYo8zzq_h0",
        "outputId": "40ccadf7-3ba9-4b5b-c621-0da38ec73b38"
      },
      "outputs": [
        {
          "name": "stdout",
          "output_type": "stream",
          "text": [
            "torch.Size([1115394]) torch.int64\n",
            "tensor([18, 47, 56, 57, 58,  1, 15, 47, 58, 47, 64, 43, 52, 10,  0, 14, 43, 44,\n",
            "        53, 56, 43,  1, 61, 43,  1, 54, 56, 53, 41, 43, 43, 42,  1, 39, 52, 63,\n",
            "         1, 44, 59, 56, 58, 46, 43, 56,  6,  1, 46, 43, 39, 56,  1, 51, 43,  1,\n",
            "        57, 54, 43, 39, 49,  8,  0,  0, 13, 50, 50, 10,  0, 31, 54, 43, 39, 49,\n",
            "         6,  1, 57, 54, 43, 39, 49,  8,  0,  0, 18, 47, 56, 57, 58,  1, 15, 47,\n",
            "        58, 47, 64, 43, 52, 10,  0, 37, 53, 59])\n"
          ]
        }
      ],
      "source": [
        "#load the data\n",
        "import torch\n",
        "data =  torch.tensor(encode(text), dtype=torch.long)\n",
        "print(data.shape, data.dtype)\n",
        "print(data[0:100])"
      ]
    },
    {
      "cell_type": "code",
      "execution_count": 18,
      "metadata": {
        "id": "PxBCjOVM-IUd"
      },
      "outputs": [],
      "source": [
        "# Divide dataset into training and test sets\n",
        "\n",
        "n = int(0.9 * len(data))\n",
        "training_data = data[0:n]\n",
        "val_data = data[n:]"
      ]
    },
    {
      "cell_type": "code",
      "execution_count": 19,
      "metadata": {
        "colab": {
          "base_uri": "https://localhost:8080/"
        },
        "id": "gtYZfOgp-ECp",
        "outputId": "87256a0e-2d01-4e37-9436-7dcb357b553f"
      },
      "outputs": [
        {
          "name": "stdout",
          "output_type": "stream",
          "text": [
            "When input is tensor([18]), target is 47\n",
            "When input is tensor([18, 47]), target is 56\n",
            "When input is tensor([18, 47, 56]), target is 57\n",
            "When input is tensor([18, 47, 56, 57]), target is 58\n",
            "When input is tensor([18, 47, 56, 57, 58]), target is 1\n",
            "When input is tensor([18, 47, 56, 57, 58,  1]), target is 15\n",
            "When input is tensor([18, 47, 56, 57, 58,  1, 15]), target is 47\n",
            "When input is tensor([18, 47, 56, 57, 58,  1, 15, 47]), target is 58\n"
          ]
        }
      ],
      "source": [
        "block_size = 8\n",
        "x = training_data[:block_size]\n",
        "y = training_data[1:block_size + 1]\n",
        "\n",
        "for t in range(block_size):\n",
        "    context = x[:t+1]\n",
        "    target = y[t]\n",
        "    print(f\"When input is {context}, target is {target}\")"
      ]
    },
    {
      "cell_type": "code",
      "execution_count": 28,
      "metadata": {
        "colab": {
          "base_uri": "https://localhost:8080/"
        },
        "id": "DPOAzZ9Wg7Vc",
        "outputId": "7da0d8e4-84d5-4d0b-f255-594692d38a3e"
      },
      "outputs": [
        {
          "name": "stdout",
          "output_type": "stream",
          "text": [
            "Inputs\n",
            "torch.Size([4, 8])\n",
            "tensor([[24, 43, 58,  5, 57,  1, 46, 43],\n",
            "        [44, 53, 56,  1, 58, 46, 39, 58],\n",
            "        [52, 58,  1, 58, 46, 39, 58,  1],\n",
            "        [25, 17, 27, 10,  0, 21,  1, 54]])\n",
            "Targets\n",
            "torch.Size([4, 8])\n",
            "tensor([[43, 58,  5, 57,  1, 46, 43, 39],\n",
            "        [53, 56,  1, 58, 46, 39, 58,  1],\n",
            "        [58,  1, 58, 46, 39, 58,  1, 46],\n",
            "        [17, 27, 10,  0, 21,  1, 54, 39]])\n",
            "-----------\n",
            "When input is tensor([24]), target is 43\n",
            "When input is tensor([24, 43]), target is 58\n",
            "When input is tensor([24, 43, 58]), target is 5\n",
            "When input is tensor([24, 43, 58,  5]), target is 57\n",
            "When input is tensor([24, 43, 58,  5, 57]), target is 1\n",
            "When input is tensor([24, 43, 58,  5, 57,  1]), target is 46\n",
            "When input is tensor([24, 43, 58,  5, 57,  1, 46]), target is 43\n",
            "When input is tensor([24, 43, 58,  5, 57,  1, 46, 43]), target is 39\n",
            "When input is tensor([44]), target is 53\n",
            "When input is tensor([44, 53]), target is 56\n",
            "When input is tensor([44, 53, 56]), target is 1\n",
            "When input is tensor([44, 53, 56,  1]), target is 58\n",
            "When input is tensor([44, 53, 56,  1, 58]), target is 46\n",
            "When input is tensor([44, 53, 56,  1, 58, 46]), target is 39\n",
            "When input is tensor([44, 53, 56,  1, 58, 46, 39]), target is 58\n",
            "When input is tensor([44, 53, 56,  1, 58, 46, 39, 58]), target is 1\n",
            "When input is tensor([52]), target is 58\n",
            "When input is tensor([52, 58]), target is 1\n",
            "When input is tensor([52, 58,  1]), target is 58\n",
            "When input is tensor([52, 58,  1, 58]), target is 46\n",
            "When input is tensor([52, 58,  1, 58, 46]), target is 39\n",
            "When input is tensor([52, 58,  1, 58, 46, 39]), target is 58\n",
            "When input is tensor([52, 58,  1, 58, 46, 39, 58]), target is 1\n",
            "When input is tensor([52, 58,  1, 58, 46, 39, 58,  1]), target is 46\n",
            "When input is tensor([25]), target is 17\n",
            "When input is tensor([25, 17]), target is 27\n",
            "When input is tensor([25, 17, 27]), target is 10\n",
            "When input is tensor([25, 17, 27, 10]), target is 0\n",
            "When input is tensor([25, 17, 27, 10,  0]), target is 21\n",
            "When input is tensor([25, 17, 27, 10,  0, 21]), target is 1\n",
            "When input is tensor([25, 17, 27, 10,  0, 21,  1]), target is 54\n",
            "When input is tensor([25, 17, 27, 10,  0, 21,  1, 54]), target is 39\n"
          ]
        }
      ],
      "source": [
        "torch.manual_seed(1337)\n",
        "block_size = 8 # context lenght for predictions\n",
        "batch_size = 4 # how many independent sequences will be procesed in parallel\n",
        "\n",
        "def gen_batch(split):\n",
        "    data = training_data if split == \"train\" else val_data\n",
        "    ix = torch.randint(len(data) - block_size, (batch_size,))\n",
        "    x = torch.stack([data[i:i + block_size] for i in ix])\n",
        "    y = torch.stack([data[i+1 : i + block_size + 1] for i in ix])\n",
        "    return x, y\n",
        "\n",
        "xb, yb = gen_batch(\"train\")\n",
        "print(\"Inputs\")\n",
        "print(xb.shape)\n",
        "print(xb)\n",
        "print(\"Targets\")\n",
        "print(yb.shape)\n",
        "print(yb)\n",
        "print(\"-----------\")\n",
        "\n",
        "for b in range(batch_size):\n",
        "    for t in range(block_size):\n",
        "        context = xb[b,:t+1]\n",
        "        target = yb[b,t]\n",
        "        print(f\"When input is {context}, target is {target}\")\n",
        "\n",
        "\n",
        "\n",
        "\n"
      ]
    },
    {
      "cell_type": "code",
      "execution_count": 31,
      "metadata": {
        "colab": {
          "base_uri": "https://localhost:8080/"
        },
        "id": "V0UcymxfFey7",
        "outputId": "2b387a7b-ab95-4550-9eae-513cb0dc2572"
      },
      "outputs": [
        {
          "name": "stdout",
          "output_type": "stream",
          "text": [
            "torch.Size([32, 65])\n",
            "torch.Size([])\n",
            "tensor(4.8786, grad_fn=<NllLossBackward0>)\n"
          ]
        }
      ],
      "source": [
        "import torch\n",
        "import torch.nn as nn\n",
        "from torch.nn import functional as F\n",
        "\n",
        "torch.manual_seed(1337)\n",
        "\n",
        "class BigramLanguageModel(nn.Module):\n",
        "\n",
        "    def __init__(self, vocab_size):\n",
        "        super().__init__()\n",
        "        # each token directly reads off the logits for the next token from a lookup table\n",
        "        self.token_embededing_table = nn.Embedding(vocab_size, vocab_size)  # each column will indicate the probability of the predicted word\n",
        "\n",
        "    def forward(self, idx, targets):\n",
        "        logits = self.token_embededing_table(idx) # (B, T, C)\n",
        "        B, T, C = logits.shape\n",
        "        logits = logits.view(B*T,C)\n",
        "        targets = targets.view(B*T)\n",
        "\n",
        "        loss = F.cross_entropy(logits, targets)\n",
        "        return logits, loss\n",
        "\n",
        "m = BigramLanguageModel(vocab_size)\n",
        "logits, loss =  m(xb, yb)\n",
        "print(logits.shape)\n",
        "print(loss.shape)\n",
        "print(loss)\n"
      ]
    },
    {
      "cell_type": "code",
      "execution_count": null,
      "metadata": {},
      "outputs": [],
      "source": []
    }
  ],
  "metadata": {
    "colab": {
      "provenance": []
    },
    "kernelspec": {
      "display_name": "Python 3",
      "name": "python3"
    },
    "language_info": {
      "codemirror_mode": {
        "name": "ipython",
        "version": 3
      },
      "file_extension": ".py",
      "mimetype": "text/x-python",
      "name": "python",
      "nbconvert_exporter": "python",
      "pygments_lexer": "ipython3",
      "version": "3.9.18"
    }
  },
  "nbformat": 4,
  "nbformat_minor": 0
}
